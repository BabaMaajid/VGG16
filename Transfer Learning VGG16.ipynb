{
 "cells": [
  {
   "cell_type": "markdown",
   "metadata": {},
   "source": [
    "## Transfer Learning VGG 16 and VGG 19 using Keras"
   ]
  },
  {
   "cell_type": "markdown",
   "metadata": {},
   "source": [
    "Please download the dataset from the below url"
   ]
  },
  {
   "cell_type": "code",
   "execution_count": 1,
   "metadata": {},
   "outputs": [
    {
     "name": "stdout",
     "output_type": "stream",
     "text": [
      "Please install GPU version of TF\n"
     ]
    }
   ],
   "source": [
    "#import tensorflow as tf \n",
    "\n",
    "#if tf.test.gpu_device_name(): \n",
    "    \n",
    "\n",
    "   # print('Default GPU Device:{}'.format(tf.test.gpu_device_name()))\n",
    "\n",
    "#else:\n",
    "\n",
    "   # print(\"Please install GPU version of TF\")"
   ]
  },
  {
   "cell_type": "code",
   "execution_count": 2,
   "metadata": {},
   "outputs": [
    {
     "data": {
      "text/plain": [
       "''"
      ]
     },
     "execution_count": 2,
     "metadata": {},
     "output_type": "execute_result"
    }
   ],
   "source": [
    "#tf.test.gpu_device_name()"
   ]
  },
  {
   "cell_type": "code",
   "execution_count": 1,
   "metadata": {},
   "outputs": [],
   "source": [
    "# import the libraries as shown below\n",
    "\n",
    "from tensorflow.keras.layers import Input, Lambda, Dense, Flatten\n",
    "from tensorflow.keras.models import Model\n",
    "from tensorflow.keras.applications.vgg16 import VGG16\n",
    "from tensorflow.keras.applications.vgg16 import preprocess_input\n",
    "from tensorflow.keras.preprocessing import image\n",
    "from tensorflow.keras.preprocessing.image import ImageDataGenerator,load_img\n",
    "from tensorflow.keras.models import Sequential\n",
    "import numpy as np\n",
    "from glob import glob\n"
   ]
  },
  {
   "cell_type": "code",
   "execution_count": 2,
   "metadata": {},
   "outputs": [],
   "source": [
    "# re-size all the images to this\n",
    "IMAGE_SIZE = [224, 224]\n",
    "\n",
    "train_path = 'D:/catsdogs/catdogs/training_set'\n",
    "valid_path = 'D:/catsdogs/catdogs/test_set'\n"
   ]
  },
  {
   "cell_type": "code",
   "execution_count": 3,
   "metadata": {},
   "outputs": [],
   "source": [
    "# Import the Vgg 16 library as shown below and add preprocessing layer to the front of VGG\n",
    "# Here we will be using imagenet weights\n",
    "\n",
    "vgg16 = VGG16(input_shape=IMAGE_SIZE + [3], weights='imagenet', include_top=False)\n",
    "\n",
    "\n"
   ]
  },
  {
   "cell_type": "code",
   "execution_count": 4,
   "metadata": {},
   "outputs": [],
   "source": [
    "# don't train existing weights\n",
    "for layer in vgg16.layers:\n",
    "    layer.trainable = False"
   ]
  },
  {
   "cell_type": "code",
   "execution_count": 5,
   "metadata": {},
   "outputs": [],
   "source": [
    "  # useful for getting number of output classes\n",
    "folders = glob(r'D:\\catsdogs\\catdogs\\training_set\\*')"
   ]
  },
  {
   "cell_type": "code",
   "execution_count": 26,
   "metadata": {},
   "outputs": [
    {
     "name": "stdout",
     "output_type": "stream",
     "text": [
      "2\n"
     ]
    }
   ],
   "source": [
    "print(len(folders))"
   ]
  },
  {
   "cell_type": "code",
   "execution_count": 6,
   "metadata": {},
   "outputs": [],
   "source": [
    "# our layers - you can add more if you want\n",
    "x = Flatten()(vgg16.output)"
   ]
  },
  {
   "cell_type": "code",
   "execution_count": 7,
   "metadata": {},
   "outputs": [],
   "source": [
    "prediction = Dense(len(folders), activation='softmax')(x)\n",
    "\n",
    "# create a model object\n",
    "model = Model(inputs=vgg16.input, outputs=prediction)"
   ]
  },
  {
   "cell_type": "code",
   "execution_count": 8,
   "metadata": {},
   "outputs": [
    {
     "name": "stdout",
     "output_type": "stream",
     "text": [
      "Model: \"model\"\n",
      "_________________________________________________________________\n",
      "Layer (type)                 Output Shape              Param #   \n",
      "=================================================================\n",
      "input_1 (InputLayer)         [(None, 224, 224, 3)]     0         \n",
      "_________________________________________________________________\n",
      "block1_conv1 (Conv2D)        (None, 224, 224, 64)      1792      \n",
      "_________________________________________________________________\n",
      "block1_conv2 (Conv2D)        (None, 224, 224, 64)      36928     \n",
      "_________________________________________________________________\n",
      "block1_pool (MaxPooling2D)   (None, 112, 112, 64)      0         \n",
      "_________________________________________________________________\n",
      "block2_conv1 (Conv2D)        (None, 112, 112, 128)     73856     \n",
      "_________________________________________________________________\n",
      "block2_conv2 (Conv2D)        (None, 112, 112, 128)     147584    \n",
      "_________________________________________________________________\n",
      "block2_pool (MaxPooling2D)   (None, 56, 56, 128)       0         \n",
      "_________________________________________________________________\n",
      "block3_conv1 (Conv2D)        (None, 56, 56, 256)       295168    \n",
      "_________________________________________________________________\n",
      "block3_conv2 (Conv2D)        (None, 56, 56, 256)       590080    \n",
      "_________________________________________________________________\n",
      "block3_conv3 (Conv2D)        (None, 56, 56, 256)       590080    \n",
      "_________________________________________________________________\n",
      "block3_pool (MaxPooling2D)   (None, 28, 28, 256)       0         \n",
      "_________________________________________________________________\n",
      "block4_conv1 (Conv2D)        (None, 28, 28, 512)       1180160   \n",
      "_________________________________________________________________\n",
      "block4_conv2 (Conv2D)        (None, 28, 28, 512)       2359808   \n",
      "_________________________________________________________________\n",
      "block4_conv3 (Conv2D)        (None, 28, 28, 512)       2359808   \n",
      "_________________________________________________________________\n",
      "block4_pool (MaxPooling2D)   (None, 14, 14, 512)       0         \n",
      "_________________________________________________________________\n",
      "block5_conv1 (Conv2D)        (None, 14, 14, 512)       2359808   \n",
      "_________________________________________________________________\n",
      "block5_conv2 (Conv2D)        (None, 14, 14, 512)       2359808   \n",
      "_________________________________________________________________\n",
      "block5_conv3 (Conv2D)        (None, 14, 14, 512)       2359808   \n",
      "_________________________________________________________________\n",
      "block5_pool (MaxPooling2D)   (None, 7, 7, 512)         0         \n",
      "_________________________________________________________________\n",
      "flatten (Flatten)            (None, 25088)             0         \n",
      "_________________________________________________________________\n",
      "dense (Dense)                (None, 2)                 50178     \n",
      "=================================================================\n",
      "Total params: 14,764,866\n",
      "Trainable params: 50,178\n",
      "Non-trainable params: 14,714,688\n",
      "_________________________________________________________________\n"
     ]
    }
   ],
   "source": [
    "\n",
    "# view the structure of the model\n",
    "model.summary()\n"
   ]
  },
  {
   "cell_type": "code",
   "execution_count": 9,
   "metadata": {},
   "outputs": [],
   "source": [
    "# tell the model what cost and optimization method to use\n",
    "model.compile(\n",
    "  loss='categorical_crossentropy',\n",
    "  optimizer='adam',\n",
    "  metrics=['accuracy']\n",
    ")\n"
   ]
  },
  {
   "cell_type": "code",
   "execution_count": 11,
   "metadata": {},
   "outputs": [],
   "source": [
    "# Use the Image Data Generator to import the images from the dataset\n",
    "from tensorflow.keras.preprocessing.image import ImageDataGenerator\n",
    "\n",
    "train_datagen = ImageDataGenerator(rescale = 1./255,\n",
    "                                   shear_range = 0.2,\n",
    "                                   zoom_range = 0.2,\n",
    "                                   horizontal_flip = True)\n",
    "\n",
    "test_datagen = ImageDataGenerator(rescale = 1./255)"
   ]
  },
  {
   "cell_type": "code",
   "execution_count": 12,
   "metadata": {},
   "outputs": [
    {
     "name": "stdout",
     "output_type": "stream",
     "text": [
      "Found 8000 images belonging to 2 classes.\n"
     ]
    }
   ],
   "source": [
    "# Make sure you provide the same target size as initialied for the image size\n",
    "training_set = train_datagen.flow_from_directory('D:/catsdogs/catdogs/training_set',\n",
    "                                                 target_size = (224, 224),\n",
    "                                                 batch_size = 32,\n",
    "                                                 class_mode = 'categorical')"
   ]
  },
  {
   "cell_type": "code",
   "execution_count": 13,
   "metadata": {},
   "outputs": [
    {
     "name": "stdout",
     "output_type": "stream",
     "text": [
      "Found 2000 images belonging to 2 classes.\n"
     ]
    }
   ],
   "source": [
    "test_set = test_datagen.flow_from_directory(r'D:\\catsdogs\\catdogs\\test_set',\n",
    "                                            target_size = (224, 224),\n",
    "                                            batch_size = 32,\n",
    "                                            class_mode = 'categorical')"
   ]
  },
  {
   "cell_type": "code",
   "execution_count": 14,
   "metadata": {},
   "outputs": [
    {
     "name": "stderr",
     "output_type": "stream",
     "text": [
      "c:\\users\\jitesh\\anaconda3\\envs\\dogs\\lib\\site-packages\\tensorflow\\python\\keras\\engine\\training.py:1844: UserWarning: `Model.fit_generator` is deprecated and will be removed in a future version. Please use `Model.fit`, which supports generators.\n",
      "  warnings.warn('`Model.fit_generator` is deprecated and '\n"
     ]
    },
    {
     "name": "stdout",
     "output_type": "stream",
     "text": [
      "Epoch 1/30\n",
      "250/250 [==============================] - 1026s 4s/step - loss: 0.4995 - accuracy: 0.7989 - val_loss: 0.2170 - val_accuracy: 0.9090\n",
      "Epoch 2/30\n",
      "250/250 [==============================] - 992s 4s/step - loss: 0.2165 - accuracy: 0.9123 - val_loss: 0.1939 - val_accuracy: 0.9205\n",
      "Epoch 3/30\n",
      "250/250 [==============================] - 991s 4s/step - loss: 0.1742 - accuracy: 0.9328 - val_loss: 0.1911 - val_accuracy: 0.9280\n",
      "Epoch 4/30\n",
      "250/250 [==============================] - 995s 4s/step - loss: 0.1517 - accuracy: 0.9390 - val_loss: 0.2551 - val_accuracy: 0.9070\n",
      "Epoch 5/30\n",
      "250/250 [==============================] - 992s 4s/step - loss: 0.1440 - accuracy: 0.9446 - val_loss: 0.2160 - val_accuracy: 0.9270\n",
      "Epoch 6/30\n",
      "250/250 [==============================] - 994s 4s/step - loss: 0.1314 - accuracy: 0.9463 - val_loss: 0.1944 - val_accuracy: 0.9345\n",
      "Epoch 7/30\n",
      "250/250 [==============================] - 992s 4s/step - loss: 0.1497 - accuracy: 0.9391 - val_loss: 0.3578 - val_accuracy: 0.8910\n",
      "Epoch 8/30\n",
      "250/250 [==============================] - 996s 4s/step - loss: 0.1414 - accuracy: 0.9462 - val_loss: 0.2142 - val_accuracy: 0.9340\n",
      "Epoch 9/30\n",
      "250/250 [==============================] - 1017s 4s/step - loss: 0.1141 - accuracy: 0.9587 - val_loss: 0.3096 - val_accuracy: 0.9035\n",
      "Epoch 10/30\n",
      "250/250 [==============================] - 1017s 4s/step - loss: 0.1438 - accuracy: 0.9461 - val_loss: 0.3163 - val_accuracy: 0.9010\n",
      "Epoch 11/30\n",
      "250/250 [==============================] - 1008s 4s/step - loss: 0.1231 - accuracy: 0.9540 - val_loss: 0.2379 - val_accuracy: 0.9290\n",
      "Epoch 12/30\n",
      "250/250 [==============================] - 1027s 4s/step - loss: 0.1280 - accuracy: 0.9486 - val_loss: 0.4423 - val_accuracy: 0.8870\n",
      "Epoch 13/30\n",
      "250/250 [==============================] - 999s 4s/step - loss: 0.1092 - accuracy: 0.9598 - val_loss: 0.2297 - val_accuracy: 0.9310\n",
      "Epoch 14/30\n",
      "250/250 [==============================] - 994s 4s/step - loss: 0.0956 - accuracy: 0.9643 - val_loss: 0.2694 - val_accuracy: 0.9315\n",
      "Epoch 15/30\n",
      "250/250 [==============================] - 1000s 4s/step - loss: 0.0818 - accuracy: 0.9700 - val_loss: 0.2586 - val_accuracy: 0.9350\n",
      "Epoch 16/30\n",
      "250/250 [==============================] - 999s 4s/step - loss: 0.0935 - accuracy: 0.9636 - val_loss: 0.2552 - val_accuracy: 0.9335\n",
      "Epoch 17/30\n",
      "250/250 [==============================] - 998s 4s/step - loss: 0.0691 - accuracy: 0.9725 - val_loss: 0.2751 - val_accuracy: 0.9265\n",
      "Epoch 18/30\n",
      "250/250 [==============================] - 1000s 4s/step - loss: 0.0840 - accuracy: 0.9674 - val_loss: 0.2946 - val_accuracy: 0.9285\n",
      "Epoch 19/30\n",
      "250/250 [==============================] - 1021s 4s/step - loss: 0.0698 - accuracy: 0.9727 - val_loss: 0.2578 - val_accuracy: 0.9335\n",
      "Epoch 20/30\n",
      "250/250 [==============================] - 1050s 4s/step - loss: 0.0778 - accuracy: 0.9712 - val_loss: 0.3521 - val_accuracy: 0.9105\n",
      "Epoch 21/30\n",
      "250/250 [==============================] - 1029s 4s/step - loss: 0.0991 - accuracy: 0.9658 - val_loss: 0.2812 - val_accuracy: 0.9325\n",
      "Epoch 22/30\n",
      "250/250 [==============================] - 1056s 4s/step - loss: 0.0710 - accuracy: 0.9728 - val_loss: 0.2762 - val_accuracy: 0.9315\n",
      "Epoch 23/30\n",
      "250/250 [==============================] - 845s 3s/step - loss: 0.0870 - accuracy: 0.9693 - val_loss: 0.3130 - val_accuracy: 0.9295\n",
      "Epoch 24/30\n",
      "250/250 [==============================] - 828s 3s/step - loss: 0.0638 - accuracy: 0.9707 - val_loss: 0.3062 - val_accuracy: 0.9245\n",
      "Epoch 25/30\n",
      "250/250 [==============================] - 832s 3s/step - loss: 0.0728 - accuracy: 0.9709 - val_loss: 0.2984 - val_accuracy: 0.9275\n",
      "Epoch 26/30\n",
      "250/250 [==============================] - 828s 3s/step - loss: 0.0732 - accuracy: 0.9722 - val_loss: 0.3074 - val_accuracy: 0.9325\n",
      "Epoch 27/30\n",
      "250/250 [==============================] - 826s 3s/step - loss: 0.0743 - accuracy: 0.9739 - val_loss: 0.5085 - val_accuracy: 0.8940\n",
      "Epoch 28/30\n",
      "250/250 [==============================] - 826s 3s/step - loss: 0.0918 - accuracy: 0.9693 - val_loss: 0.2928 - val_accuracy: 0.9340\n",
      "Epoch 29/30\n",
      "250/250 [==============================] - 827s 3s/step - loss: 0.0598 - accuracy: 0.9769 - val_loss: 0.3136 - val_accuracy: 0.9295\n",
      "Epoch 30/30\n",
      "250/250 [==============================] - 828s 3s/step - loss: 0.0547 - accuracy: 0.9805 - val_loss: 0.3071 - val_accuracy: 0.9330\n"
     ]
    }
   ],
   "source": [
    "# fit the model\n",
    "# Run the cell. It will take some time to execute\n",
    "r = model.fit_generator(\n",
    "  training_set,\n",
    "  validation_data=test_set,\n",
    "  epochs=30,\n",
    "  steps_per_epoch=len(training_set),\n",
    "  validation_steps=len(test_set)\n",
    ")"
   ]
  },
  {
   "cell_type": "code",
   "execution_count": null,
   "metadata": {},
   "outputs": [],
   "source": []
  },
  {
   "cell_type": "code",
   "execution_count": 17,
   "metadata": {},
   "outputs": [
    {
     "data": {
      "image/png": "[encoded data removed]",
      "text/plain": [
       "<Figure size 432x288 with 1 Axes>"
      ]
     },
     "metadata": {
      "needs_background": "light"
     },
     "output_type": "display_data"
    },
    {
     "data": {
      "image/png": "[encoded data removed]",
      "text/plain": [
       "<Figure size 432x288 with 1 Axes>"
      ]
     },
     "metadata": {
      "needs_background": "light"
     },
     "output_type": "display_data"
    },
    {
     "data": {
      "text/plain": [
       "<Figure size 432x288 with 0 Axes>"
      ]
     },
     "metadata": {},
     "output_type": "display_data"
    }
   ],
   "source": [
    "# plot the loss\n",
    "import matplotlib.pyplot as plt\n",
    "plt.plot(r.history['loss'], label='train loss')\n",
    "plt.plot(r.history['val_loss'], label='val loss')\n",
    "plt.legend()\n",
    "plt.show()\n",
    "plt.savefig('LossVal_loss')\n",
    "\n",
    "# plot the accuracy\n",
    "plt.plot(r.history['accuracy'], label='train acc')\n",
    "plt.plot(r.history['val_accuracy'], label='val acc')\n",
    "plt.legend()\n",
    "plt.show()\n",
    "plt.savefig('AccVal_acc')"
   ]
  },
  {
   "cell_type": "code",
   "execution_count": 15,
   "metadata": {},
   "outputs": [],
   "source": [
    "# save it as a h5 file\n",
    "\n",
    "\n",
    "from tensorflow.keras.models import load_model\n",
    "\n",
    "model.save('model_vgg16.h5')"
   ]
  },
  {
   "cell_type": "code",
   "execution_count": null,
   "metadata": {},
   "outputs": [],
   "source": []
  }
 ],
 "metadata": {
  "kernelspec": {
   "display_name": "Python 3",
   "language": "python",
   "name": "python3"
  },
  "language_info": {
   "codemirror_mode": {
    "name": "ipython",
    "version": 3
   },
   "file_extension": ".py",
   "mimetype": "text/x-python",
   "name": "python",
   "nbconvert_exporter": "python",
   "pygments_lexer": "ipython3",
   "version": "3.6.12"
  }
 },
 "nbformat": 4,
 "nbformat_minor": 2
}
